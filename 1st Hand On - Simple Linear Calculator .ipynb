{
 "cells": [
  {
   "cell_type": "markdown",
   "id": "consolidated-landscape",
   "metadata": {},
   "source": [
    "<h1 style=\"text-align:center\">1'st hands on tkinter (simple linear speed calculator)\n",
    "    <h5 style=\"text-align:center\">by: Felix Filipi"
   ]
  },
  {
   "cell_type": "markdown",
   "id": "convertible-sense",
   "metadata": {},
   "source": [
    "<h3> Gui programming without class"
   ]
  },
  {
   "cell_type": "markdown",
   "id": "corporate-evanescence",
   "metadata": {},
   "source": [
    "<b> Not recommended, too complicated and not clean. But usually still work for simple code"
   ]
  },
  {
   "cell_type": "markdown",
   "id": "dependent-equity",
   "metadata": {},
   "source": [
    "<b>*Note :</b> \n",
    "\n",
    "1. to run get usually we need to define it in an event, for this case we need to build the close_window function, without his function, we won't able to get the value because we need to destroy the window, but the command statement only take 1 arg\n",
    "2. grid won't work inline with the label or entry, you need to define it by itself like below code, because it will return none when you try to get the grid inline"
   ]
  },
  {
   "cell_type": "code",
   "execution_count": 1,
   "id": "assumed-pharmacology",
   "metadata": {},
   "outputs": [
    {
     "name": "stdout",
     "output_type": "stream",
     "text": [
      "16.384615384615383\n"
     ]
    }
   ],
   "source": [
    "import tkinter as tk\n",
    "\n",
    "#Event\n",
    "def close_window():\n",
    "    distance = int(a1.get())\n",
    "    time = int(b1.get())\n",
    "    speed = distance / time\n",
    "    print(speed)\n",
    "    window.destroy()\n",
    "\n",
    "#define the window\n",
    "window = tk.Tk()\n",
    "window.title(\"Simple Linear Speed calculator\")\n",
    "window.geometry('200x200')\n",
    "\n",
    "#define the label\n",
    "a = tk.Label(window, text=\"Distance (Meter)\")\n",
    "a.grid(row = 0,column = 0)\n",
    "b = tk.Label(window, text=\"Time (Second)\")\n",
    "b.grid(row = 1, column = 0)\n",
    "\n",
    "#define the entry\n",
    "a1 = tk.Entry(window)\n",
    "a1.grid(row = 0, column = 1)\n",
    "b1 = tk.Entry(window)\n",
    "b1.grid(row = 1, column = 1)\n",
    "\n",
    "#define the button\n",
    "button = tk.Button(window,text=\"Enter\",bg=\"#000\",fg=\"#fff\", command = close_window)\n",
    "button.grid(row=2, column = 1)\n",
    "\n",
    "window.mainloop()"
   ]
  },
  {
   "cell_type": "markdown",
   "id": "changed-survey",
   "metadata": {},
   "source": [
    "<h3> Gui programming with class"
   ]
  },
  {
   "cell_type": "markdown",
   "id": "enabling-block",
   "metadata": {},
   "source": [
    "<b> Recommended, easy to read, clean, and easier to call the class."
   ]
  },
  {
   "cell_type": "markdown",
   "id": "pending-assurance",
   "metadata": {},
   "source": [
    "<b>*Note: </b>\n",
    "\n",
    "1. Remember, when init on class we won't call it on variable like window like (top) functional programming, but we will call it on self"
   ]
  },
  {
   "cell_type": "code",
   "execution_count": 2,
   "id": "contrary-twelve",
   "metadata": {},
   "outputs": [
    {
     "name": "stdout",
     "output_type": "stream",
     "text": [
      "16.384615384615383\n"
     ]
    }
   ],
   "source": [
    "import tkinter as tk\n",
    "\n",
    "class linear_speed_calculator(tk.Tk):\n",
    "        \n",
    "    def __init__(self):\n",
    "        \n",
    "        #init windows\n",
    "        tk.Tk.__init__(self)\n",
    "        self.title(\"Simple Linear Speed calculator\")\n",
    "        self.geometry('200x200')\n",
    "        self.label_distance = tk.Label(self, text=\"Distance (Meter)\")\n",
    "        self.label_distance.grid(row = 0,column = 0)\n",
    "        \n",
    "        self.label_time = tk.Label(self, text=\"Time (Second)\")\n",
    "        self.label_time.grid(row = 1, column = 0)\n",
    "        \n",
    "        self.entry_distance = tk.Entry(self)\n",
    "        self.entry_distance.grid(row = 0, column = 1)\n",
    "        \n",
    "        self.entry_time = tk.Entry(self)\n",
    "        self.entry_time.grid(row = 1, column = 1)\n",
    "        \n",
    "        self.button = tk.Button(self,text=\"Enter\",bg=\"#000\",fg=\"#fff\", command = self.close_window)\n",
    "        self.button.grid(row=2, column = 1)\n",
    "        \n",
    "    def close_window(self):\n",
    "        distance = int(self.entry_distance.get())\n",
    "        time = int(self.entry_time.get())\n",
    "        speed = distance / time\n",
    "        print(speed)\n",
    "        self.destroy()\n",
    "        \n",
    "app = linear_speed_calculator()\n",
    "app.mainloop()"
   ]
  }
 ],
 "metadata": {
  "kernelspec": {
   "display_name": "Python 3",
   "language": "python",
   "name": "python3"
  },
  "language_info": {
   "codemirror_mode": {
    "name": "ipython",
    "version": 3
   },
   "file_extension": ".py",
   "mimetype": "text/x-python",
   "name": "python",
   "nbconvert_exporter": "python",
   "pygments_lexer": "ipython3",
   "version": "3.7.9"
  }
 },
 "nbformat": 4,
 "nbformat_minor": 5
}
